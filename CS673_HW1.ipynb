{
 "cells": [
  {
   "cell_type": "code",
   "execution_count": 1,
   "id": "22e4375c",
   "metadata": {},
   "outputs": [
    {
     "name": "stdout",
     "output_type": "stream",
     "text": [
      "Hello World\n"
     ]
    }
   ],
   "source": [
    "def is_print(x_str):\n",
    "    print(x_str)\n",
    "\n",
    "\n",
    "is_print('Hello World')"
   ]
  },
  {
   "cell_type": "code",
   "execution_count": 2,
   "id": "8b9297bb",
   "metadata": {},
   "outputs": [
    {
     "name": "stdout",
     "output_type": "stream",
     "text": [
      "   1   2   3   4   5   6   7   8   9  10  11  12\n",
      "   2   4   6   8  10  12  14  16  18  20  22  24\n",
      "   3   6   9  12  15  18  21  24  27  30  33  36\n",
      "   4   8  12  16  20  24  28  32  36  40  44  48\n",
      "   5  10  15  20  25  30  35  40  45  50  55  60\n",
      "   6  12  18  24  30  36  42  48  54  60  66  72\n",
      "   7  14  21  28  35  42  49  56  63  70  77  84\n",
      "   8  16  24  32  40  48  56  64  72  80  88  96\n",
      "   9  18  27  36  45  54  63  72  81  90  99 108\n",
      "  10  20  30  40  50  60  70  80  90 100 110 120\n",
      "  11  22  33  44  55  66  77  88  99 110 121 132\n",
      "  12  24  36  48  60  72  84  96 108 120 132 144\n"
     ]
    }
   ],
   "source": [
    "def is_multifi_table(num):\n",
    "    for i in range(1, num + 1):\n",
    "        for j in range(1, num + 1):\n",
    "            print(f'{i * j:4d}', end='')\n",
    "        print('\\n', end='')\n",
    "\n",
    "\n",
    "is_multifi_table(12)"
   ]
  },
  {
   "cell_type": "code",
   "execution_count": 3,
   "id": "9a15d070",
   "metadata": {},
   "outputs": [
    {
     "name": "stdout",
     "output_type": "stream",
     "text": [
      "ZOOOOZ  is a palindrome\n"
     ]
    }
   ],
   "source": [
    "def is_palindrome(x_str):\n",
    "    if x_str == x_str[:: -1]:\n",
    "        print(x_str, ' is a palindrome')\n",
    "    else:\n",
    "        print(x_str, ' is not a palindrome')\n",
    "\n",
    "\n",
    "is_palindrome(\"ZOOOOZ\")"
   ]
  },
  {
   "cell_type": "code",
   "execution_count": null,
   "id": "94b04e9a",
   "metadata": {},
   "outputs": [],
   "source": []
  }
 ],
 "metadata": {
  "kernelspec": {
   "display_name": "Python 3 (ipykernel)",
   "language": "python",
   "name": "python3"
  },
  "language_info": {
   "codemirror_mode": {
    "name": "ipython",
    "version": 3
   },
   "file_extension": ".py",
   "mimetype": "text/x-python",
   "name": "python",
   "nbconvert_exporter": "python",
   "pygments_lexer": "ipython3",
   "version": "3.9.13"
  }
 },
 "nbformat": 4,
 "nbformat_minor": 5
}
